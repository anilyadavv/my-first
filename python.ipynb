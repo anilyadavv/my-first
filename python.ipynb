{
 "cells": [
  {
   "cell_type": "code",
   "execution_count": 1,
   "metadata": {},
   "outputs": [
    {
     "name": "stdout",
     "output_type": "stream",
     "text": [
      "set is: {1, 2, 3, 4, 5}\n",
      "set is: {1, 2, 3, 4, 5, 6}\n",
      "set is: {1, 2, 3, 4, 5}\n"
     ]
    }
   ],
   "source": [
    "set ={1, 2, 3, 4, 5}\n",
    "print('set is:', set)\n",
    "#set functions : add, remove, discard, pop, clear, union, intersection, difference, symmetric_difference\n",
    "set.add(6)\n",
    "print('set is:', set)\n",
    "set.remove(6)\n",
    "print('set is:', set)"
   ]
  },
  {
   "cell_type": "code",
   "execution_count": 2,
   "metadata": {},
   "outputs": [
    {
     "name": "stdout",
     "output_type": "stream",
     "text": [
      "area of trangle(base, height) is: 100.0\n"
     ]
    }
   ],
   "source": [
    "def triangle(base, height):\n",
    "      return (0.5* base*height)\n",
    "base = 10\n",
    "height =20\n",
    "print('area of trangle(base, height) is:', triangle(base,height))"
   ]
  },
  {
   "cell_type": "code",
   "execution_count": 8,
   "metadata": {},
   "outputs": [
    {
     "name": "stdout",
     "output_type": "stream",
     "text": [
      "i is: 1\n",
      "i is: 3\n",
      "i is: 5\n",
      "i is: 7\n",
      "i is: 9\n"
     ]
    }
   ],
   "source": [
    "#Loops\n",
    "#for loop\n",
    "#range(start, stop, step)\n",
    "for i in range(1, 10,2): #Odd Number\n",
    "    print('i is:',i)"
   ]
  },
  {
   "cell_type": "code",
   "execution_count": 4,
   "metadata": {},
   "outputs": [
    {
     "name": "stdout",
     "output_type": "stream",
     "text": [
      "noArgNoReturn() is called\n",
      "noArgWithReturn() is called\n",
      "noArgWithReturn() is: noArgWithReturn() is called\n",
      "oneArgNoReturn( 1 ) is called\n"
     ]
    }
   ],
   "source": [
    "def noArgNoReturn():\n",
    "    print('noArgNoReturn() is called')\n",
    "noArgNoReturn()\n",
    "#function with no argument with return value\n",
    "def noArgWithReturn():\n",
    "    print('noArgWithReturn() is called')\n",
    "    return'noArgWithReturn() is called'\n",
    "print('noArgWithReturn() is:', noArgWithReturn())\n",
    "#function with one argument no return value\n",
    "def oneArgNoReturn(a):\n",
    "    print('oneArgNoReturn(',a,') is called')\n",
    "oneArgNoReturn(1)\n"
   ]
  },
  {
   "cell_type": "code",
   "execution_count": 13,
   "metadata": {},
   "outputs": [
    {
     "name": "stdout",
     "output_type": "stream",
     "text": [
      "Jaake dudh peeyo\n"
     ]
    }
   ],
   "source": [
    "#voting Eligibility\n",
    "age = 17\n",
    "if age >= 18:\n",
    "    print('You have voting right')\n",
    "elif age >= 80:\n",
    "    print('RIP')\n",
    "else:\n",
    "    print('Jaake dudh peeyo')"
   ]
  },
  {
   "cell_type": "code",
   "execution_count": 16,
   "metadata": {},
   "outputs": [
    {
     "name": "stdout",
     "output_type": "stream",
     "text": [
      "Enter correct or You are not eligible for voting now someday you will be\n"
     ]
    }
   ],
   "source": [
    "#try and except\n",
    "age = 'anil'\n",
    "try:\n",
    "    if age >= 18:\n",
    "        print('You have voting Right')\n",
    "except:\n",
    "    print('Enter correct or You are not eligible for voting now someday you will be')"
   ]
  },
  {
   "cell_type": "code",
   "execution_count": 3,
   "metadata": {},
   "outputs": [
    {
     "name": "stdout",
     "output_type": "stream",
     "text": [
      "You have Voting Right\n"
     ]
    }
   ],
   "source": [
    "#nested if else\n",
    "gender = 'Female'\n",
    "age = 18\n",
    "if gender=='Male':\n",
    "    if age >=18:\n",
    "        print('You have Voting Right')\n",
    "    else:\n",
    "        print('You are not eligible for voting')\n",
    "else:\n",
    "    if gender == 'Female':\n",
    "        if age >= 18:\n",
    "            print('You have Voting Right')\n",
    "        else:\n",
    "            print('You are not eligible for voting')\n",
    "    else:\n",
    "        print('You are not eligible')\n",
    "\n",
    "    \n"
   ]
  },
  {
   "cell_type": "code",
   "execution_count": 5,
   "metadata": {},
   "outputs": [
    {
     "name": "stdout",
     "output_type": "stream",
     "text": [
      "{0} is divisible by 3 and 5 is: 15\n",
      "{0} is divisible by 3 and 5 is: 30\n",
      "{0} is divisible by 3 and 5 is: 45\n",
      "{0} is divisible by 3 and 5 is: 60\n",
      "{0} is divisible by 3 and 5 is: 75\n",
      "{0} is divisible by 3 and 5 is: 90\n",
      "{0} is divisible by 3 and 5 is: 105\n",
      "{0} is divisible by 3 and 5 is: 120\n",
      "{0} is divisible by 3 and 5 is: 135\n",
      "{0} is divisible by 3 and 5 is: 150\n",
      "{0} is divisible by 3 and 5 is: 165\n",
      "{0} is divisible by 3 and 5 is: 180\n",
      "{0} is divisible by 3 and 5 is: 195\n"
     ]
    }
   ],
   "source": [
    "#Class and Object\n",
    "#Print the numbers from 1 to 200 divisible by 3 and 5\n",
    "for i in range(1, 200):\n",
    "    if i % 3 == 0 and i % 5 == 0:\n",
    "        print('{0} is divisible by 3 and 5 is:',i)\n"
   ]
  },
  {
   "cell_type": "code",
   "execution_count": 6,
   "metadata": {},
   "outputs": [
    {
     "name": "stdout",
     "output_type": "stream",
     "text": [
      "HCF is 6\n"
     ]
    }
   ],
   "source": [
    "a = 12\n",
    "b = 18\n",
    "if a > b:\n",
    "    smaller = b\n",
    "    print('HCF is',a%b)\n",
    "else:\n",
    "    smaller = a\n",
    "    print('HCF is', b%a)\n",
    "\n"
   ]
  },
  {
   "cell_type": "code",
   "execution_count": 8,
   "metadata": {},
   "outputs": [
    {
     "name": "stdout",
     "output_type": "stream",
     "text": [
      "HCF is 6\n"
     ]
    }
   ],
   "source": [
    "a = 12\n",
    "b = 18\n",
    "if a > b:\n",
    "    smaller = b\n",
    "    print('HCF is',a%b)\n",
    "else:\n",
    "    smaller = a\n",
    "    print('HCF is', b%a)\n"
   ]
  },
  {
   "cell_type": "code",
   "execution_count": 20,
   "metadata": {},
   "outputs": [
    {
     "name": "stdout",
     "output_type": "stream",
     "text": [
      "Factorial of6 is 720\n"
     ]
    }
   ],
   "source": [
    "def factorial(n):\n",
    "    if n == 0:\n",
    "        return 1\n",
    "    else:\n",
    "        return n * factorial(n-1)\n",
    "n = 6\n",
    "print('Factorial of{0} is {1}' .format(n,factorial(n)))"
   ]
  },
  {
   "cell_type": "code",
   "execution_count": null,
   "metadata": {},
   "outputs": [],
   "source": [
    "def lcm(a,b)\n"
   ]
  },
  {
   "cell_type": "code",
   "execution_count": 22,
   "metadata": {},
   "outputs": [
    {
     "name": "stdout",
     "output_type": "stream",
     "text": [
      "Found\n"
     ]
    }
   ],
   "source": [
    "list = [1,2,3, 4, 5]\n",
    "Found = 1 in list\n",
    "if Found == True:\n",
    "    print('Found')\n",
    "else:\n",
    "    print('Not Found')"
   ]
  },
  {
   "cell_type": "code",
   "execution_count": 26,
   "metadata": {},
   "outputs": [
    {
     "name": "stdout",
     "output_type": "stream",
     "text": [
      "***\n",
      "***\n",
      "***\n"
     ]
    }
   ],
   "source": [
    "def pattern(n):\n",
    "    for i in range(1,n+1):\n",
    "        for j in range(1, n+1):\n",
    "            print('*', end='')\n",
    "        print()\n",
    "n = 3 # Edit Number here\n",
    "pattern(n)"
   ]
  },
  {
   "cell_type": "code",
   "execution_count": 36,
   "metadata": {},
   "outputs": [
    {
     "name": "stdout",
     "output_type": "stream",
     "text": [
      "* # * # \n",
      "* # * # \n",
      "* # * # \n",
      "* # * # \n"
     ]
    }
   ],
   "source": [
    "def pattern(n):\n",
    "    for i in range(1,n+1):\n",
    "        for j in range(1,n-1):\n",
    "            print('*', end=' # ')\n",
    "        print()\n",
    "n = 4 # Edit Number here\n",
    "pattern(n)"
   ]
  },
  {
   "cell_type": "code",
   "execution_count": 38,
   "metadata": {},
   "outputs": [],
   "source": [
    "# class and Objects\n",
    "class Animal():\n",
    "    name= 'Cow' \n",
    "    age= '8'\n",
    "    color= 'brown'\n",
    "    def sleep(self):\n",
    "        print(self.name,'is string')\n",
    "    def eat(self):\n",
    "        print(self.name,'is string')"
   ]
  },
  {
   "cell_type": "code",
   "execution_count": 39,
   "metadata": {},
   "outputs": [
    {
     "name": "stdout",
     "output_type": "stream",
     "text": [
      "Akash is sleeping\n",
      "Akash is eating\n",
      "Akash is dirnking\n"
     ]
    }
   ],
   "source": [
    "#Constructor : __init__(): is a special function that is called when an object is created\n",
    "# it is used to initialize the state of the object\n",
    "\n",
    "class Rama:\n",
    "    name = ' '\n",
    "    age = 0\n",
    "    def __init__(self, name, age):\n",
    "        self.name =name\n",
    "        self.age =age\n",
    "    def sleep(self):\n",
    "        print('{0} is sleeping'.format(self.name))\n",
    "    def eat(self):\n",
    "        print('{0} is eating'.format(self.name))\n",
    "    def drink(self):\n",
    "        print('{0} is dirnking'.format(self.name))\n",
    "\n",
    "s=Rama('Akash',18)\n",
    "# s = Rama() # cant create an object without passing the argument\n",
    "s.sleep()\n",
    "s.eat()\n",
    "s.drink()\n",
    "    "
   ]
  },
  {
   "cell_type": "code",
   "execution_count": 42,
   "metadata": {},
   "outputs": [
    {
     "name": "stdout",
     "output_type": "stream",
     "text": [
      "Toyota is started\n",
      "Toyota is stopped\n"
     ]
    }
   ],
   "source": [
    "class Car():\n",
    "    color=\"\"\n",
    "    name=\"\"\n",
    "    type =\"\"\n",
    "    def __init__(self, model, price, mileage):\n",
    "        self.model = model\n",
    "        self.price = price\n",
    "        self.mileage = mileage\n",
    "    def start(self):\n",
    "        print('{0} is started'.format(self.model))\n",
    "    def stop(self):\n",
    "        print('{0} is stopped'.format(self.model))\n",
    "\n",
    "c = Car('Toyota','$10000', '100kmpl')\n",
    "c.start()\n",
    "c.stop()\n"
   ]
  },
  {
   "cell_type": "code",
   "execution_count": null,
   "metadata": {},
   "outputs": [],
   "source": []
  }
 ],
 "metadata": {
  "interpreter": {
   "hash": "e9666ba6605cfe5d4e58b613d70fb899108c874ac87114c5a6be7775af86f2c6"
  },
  "kernelspec": {
   "display_name": "Python 3.7.7 64-bit",
   "language": "python",
   "name": "python3"
  },
  "language_info": {
   "codemirror_mode": {
    "name": "ipython",
    "version": 3
   },
   "file_extension": ".py",
   "mimetype": "text/x-python",
   "name": "python",
   "nbconvert_exporter": "python",
   "pygments_lexer": "ipython3",
   "version": "3.7.7"
  },
  "orig_nbformat": 4
 },
 "nbformat": 4,
 "nbformat_minor": 2
}
